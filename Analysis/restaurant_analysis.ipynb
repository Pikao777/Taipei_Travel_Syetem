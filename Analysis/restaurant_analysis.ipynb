{
 "cells": [
  {
   "cell_type": "markdown",
   "id": "9d705398",
   "metadata": {},
   "source": [
    "### 載入套件"
   ]
  },
  {
   "cell_type": "code",
   "execution_count": 1,
   "id": "58fcb8ed",
   "metadata": {},
   "outputs": [],
   "source": [
    "import pandas as pd\n",
    "import numpy as np\n",
    "import matplotlib.pyplot as plt\n",
    "import seaborn as sns\n",
    "\n",
    "%matplotlib inline"
   ]
  },
  {
   "cell_type": "markdown",
   "id": "b011d9dd",
   "metadata": {},
   "source": [
    "### 讀檔"
   ]
  },
  {
   "cell_type": "code",
   "execution_count": 2,
   "id": "061b14d3",
   "metadata": {},
   "outputs": [],
   "source": [
    "df = pd.read_csv('place_info_final_3.csv', index_col=0)\n",
    "df = df.drop(columns='file_name_2')"
   ]
  },
  {
   "cell_type": "markdown",
   "id": "a0feada2",
   "metadata": {},
   "source": [
    "### 查看原始資料欄位及空缺值"
   ]
  },
  {
   "cell_type": "code",
   "execution_count": 3,
   "id": "61763463",
   "metadata": {},
   "outputs": [
    {
     "name": "stdout",
     "output_type": "stream",
     "text": [
      "<class 'pandas.core.frame.DataFrame'>\n",
      "Int64Index: 25145 entries, 0 to 25144\n",
      "Data columns (total 18 columns):\n",
      " #   Column                  Non-Null Count  Dtype  \n",
      "---  ------                  --------------  -----  \n",
      " 0   google_url              25145 non-null  object \n",
      " 1   place_name              25145 non-null  object \n",
      " 2   total_rating            25145 non-null  float64\n",
      " 3   place_category          25145 non-null  object \n",
      " 4   total_reviews           25145 non-null  float64\n",
      " 5   cost                    12146 non-null  object \n",
      " 6   address                 25145 non-null  object \n",
      " 7   district                25145 non-null  object \n",
      " 8   eat_in                  25145 non-null  int64  \n",
      " 9   to_go_1                 25145 non-null  int64  \n",
      " 10  to_go_2                 25145 non-null  int64  \n",
      " 11  delivery                25145 non-null  int64  \n",
      " 12  opening_hours           23888 non-null  object \n",
      " 13  website                 16167 non-null  object \n",
      " 14  phone                   23362 non-null  object \n",
      " 15  close                   0 non-null      float64\n",
      " 16  place_acquisition_date  25145 non-null  object \n",
      " 17  file_name_1             25145 non-null  int64  \n",
      "dtypes: float64(3), int64(5), object(10)\n",
      "memory usage: 3.6+ MB\n"
     ]
    }
   ],
   "source": [
    "df.info()"
   ]
  },
  {
   "cell_type": "markdown",
   "id": "8f9e1a96",
   "metadata": {},
   "source": [
    "### 檢查資料是否重複"
   ]
  },
  {
   "cell_type": "code",
   "execution_count": 4,
   "id": "7c679fb3",
   "metadata": {},
   "outputs": [
    {
     "name": "stdout",
     "output_type": "stream",
     "text": [
      "google_url是否重複:  False\n",
      "店名+地址是否重複:  True\n",
      "file_name_1是否重複:  False\n"
     ]
    }
   ],
   "source": [
    "print('google_url是否重複: ',df['google_url'].duplicated().any())\n",
    "print('店名+地址是否重複: ',df[['address', 'place_name']].duplicated().any())\n",
    "print('file_name_1是否重複: ',df['file_name_1'].duplicated().any())"
   ]
  },
  {
   "cell_type": "markdown",
   "id": "3ca68a54",
   "metadata": {},
   "source": [
    "### 刪除(店名+地址)重複"
   ]
  },
  {
   "cell_type": "code",
   "execution_count": 5,
   "id": "54ba2fcf",
   "metadata": {
    "scrolled": true
   },
   "outputs": [
    {
     "name": "stdout",
     "output_type": "stream",
     "text": [
      "刪除(店名+地址)重複後資料筆數:  25061\n"
     ]
    }
   ],
   "source": [
    "df2 = df.drop_duplicates(subset=['address', 'place_name'])\n",
    "print('刪除(店名+地址)重複後資料筆數: ', df2.shape[0])"
   ]
  },
  {
   "cell_type": "markdown",
   "id": "880f3795",
   "metadata": {},
   "source": [
    "### 刪除缺少營業時間row"
   ]
  },
  {
   "cell_type": "code",
   "execution_count": 6,
   "id": "fda3a9b3",
   "metadata": {},
   "outputs": [
    {
     "name": "stdout",
     "output_type": "stream",
     "text": [
      "刪除(營業時間)缺失後資料筆數:  23888\n"
     ]
    }
   ],
   "source": [
    "df2 = df[~df['opening_hours'].isna()]\n",
    "print('刪除(營業時間)缺失後資料筆數: ', df2.shape[0])"
   ]
  },
  {
   "cell_type": "markdown",
   "id": "c017c6a5",
   "metadata": {},
   "source": [
    "### 篩選可內用"
   ]
  },
  {
   "cell_type": "code",
   "execution_count": 7,
   "id": "5a653c57",
   "metadata": {},
   "outputs": [
    {
     "name": "stdout",
     "output_type": "stream",
     "text": [
      "(可內用)資料筆數:  20657\n"
     ]
    }
   ],
   "source": [
    "df2 = df2[df2['eat_in'] == 1]\n",
    "print('(可內用)資料筆數: ', df2.shape[0])"
   ]
  },
  {
   "cell_type": "markdown",
   "id": "f5fea75e",
   "metadata": {},
   "source": [
    "### 刪除評論數小於50"
   ]
  },
  {
   "cell_type": "code",
   "execution_count": 8,
   "id": "c9776b1c",
   "metadata": {
    "scrolled": true
   },
   "outputs": [
    {
     "name": "stdout",
     "output_type": "stream",
     "text": [
      "刪除(評論數 < 50)後資料筆數:  18345\n"
     ]
    }
   ],
   "source": [
    "df2 = df2[df2['total_reviews'] > 30]\n",
    "print('刪除(評論數 < 50)後資料筆數: ', df2.shape[0])"
   ]
  },
  {
   "cell_type": "markdown",
   "id": "2a6eadc5",
   "metadata": {},
   "source": [
    "### 新增Category_new欄位，mapping according to type_all.csv"
   ]
  },
  {
   "cell_type": "code",
   "execution_count": 9,
   "id": "6bdf53f5",
   "metadata": {
    "scrolled": true
   },
   "outputs": [
    {
     "name": "stderr",
     "output_type": "stream",
     "text": [
      "C:\\Users\\student\\AppData\\Local\\Temp\\ipykernel_10656\\2276532800.py:1: FutureWarning: The squeeze argument has been deprecated and will be removed in a future version. Append .squeeze(\"columns\") to the call to squeeze.\n",
      "\n",
      "\n",
      "  type_all = pd.read_csv('type_all.csv', index_col=0, squeeze=True).to_dict()\n"
     ]
    }
   ],
   "source": [
    "type_all = pd.read_csv('type_all.csv', index_col=0, squeeze=True).to_dict()\n",
    "df2['category_new'] = df2['file_name_1'].map(type_all)"
   ]
  },
  {
   "cell_type": "markdown",
   "id": "bb1c543f",
   "metadata": {},
   "source": [
    "### 刪除篩選類別後需要剔除的項目 category_new = Nan"
   ]
  },
  {
   "cell_type": "code",
   "execution_count": 10,
   "id": "abb75a6e",
   "metadata": {},
   "outputs": [
    {
     "name": "stdout",
     "output_type": "stream",
     "text": [
      "刪除(需剔除項目)後資料筆數:  16521\n"
     ]
    }
   ],
   "source": [
    "df2 = df2.dropna(subset='category_new')\n",
    "print('刪除(需剔除項目)後資料筆數: ', df2.shape[0])"
   ]
  },
  {
   "cell_type": "markdown",
   "id": "80e0bff1",
   "metadata": {},
   "source": [
    "### 新增 district_new 分類行政區"
   ]
  },
  {
   "cell_type": "code",
   "execution_count": 11,
   "id": "7602029b",
   "metadata": {},
   "outputs": [],
   "source": [
    "df2[\"district_new\"] = df2[\"district\"].str.split(\" \").str.get(3)\n",
    "df2 = df2.drop(df2[df2['district_new'] == '汐止區'].index)"
   ]
  },
  {
   "cell_type": "markdown",
   "id": "b75243b0",
   "metadata": {},
   "source": [
    "### 新增緯經度 location 欄位"
   ]
  },
  {
   "cell_type": "code",
   "execution_count": 12,
   "id": "f170b5aa",
   "metadata": {},
   "outputs": [],
   "source": [
    "df2['location'] = df2['google_url'].str.findall('\\d?\\d\\d\\.\\d+')\n",
    "df_expanded_v0 = df2[\"location\"].apply(pd.Series)\n",
    "df2['latitude'] = df_expanded_v0[0]\n",
    "df2['longitude'] = df_expanded_v0[1]"
   ]
  },
  {
   "cell_type": "markdown",
   "id": "d1853b7d",
   "metadata": {},
   "source": [
    "### 營業時間欄位新增"
   ]
  },
  {
   "cell_type": "code",
   "execution_count": 13,
   "id": "683074da",
   "metadata": {},
   "outputs": [],
   "source": [
    "def open_time(weekday, str_weekday):\n",
    "    for i in df2[str_weekday]:\n",
    "        listt = []\n",
    "        if len(i) == 0:\n",
    "            listt = [0,0,0,0,0,0,0,0,0,0,0,0,0,0,0,0,0,0,0,0,0,0,0,0]\n",
    "\n",
    "        elif len(i) == 1:\n",
    "            listt = [1,1,1,1,1,1,1,1,1,1,1,1,1,1,1,1,1,1,1,1,1,1,1,1]\n",
    "\n",
    "        if len(i) > 1:\n",
    "            # 晚上營業時間沒有跨日\n",
    "            if int(i[-1]) - int(i[0]) > 0:\n",
    "                listt = [0,0,0,0,0,0,0,0,0,0,0,0,0,0,0,0,0,0,0,0,0,0,0,0]\n",
    "                if len(i) >= 2:\n",
    "                    listt[int(i[0]):int(i[1])] = np.ones(abs(int(i[1])-int(i[0])))\n",
    "\n",
    "                    if len(i) >= 4:\n",
    "                        listt[int(i[2]):int(i[3])] = np.ones(abs(int(i[3])-int(i[2])))\n",
    "\n",
    "                        if len(i) >= 6:\n",
    "                            listt[int(i[4]):int(i[5])] = np.ones(int(i[5])-int(i[4]))\n",
    "\n",
    "                            if len(i) >= 8:\n",
    "                                listt[int(i[6]):int(i[7])] = np.ones(int(i[7])-int(i[6]))\n",
    "\n",
    "            # 晚上營業時間跨日    \n",
    "            if int(i[-1]) - int(i[0]) < 0:\n",
    "                listt = [1,1,1,1,1,1,1,1,1,1,1,1,1,1,1,1,1,1,1,1,1,1,1,1]\n",
    "\n",
    "                if len(i) >= 2:\n",
    "                    listt[int(i[-1]):int(i[0])] = np.zeros(abs(int(i[-1])-int(i[0])))\n",
    "\n",
    "                    if len(i) >= 4:\n",
    "                        listt[int(i[1]):int(i[2])] = np.zeros(abs(int(i[2])-int(i[2])))\n",
    "\n",
    "                        if len(i) >= 6:\n",
    "                            listt[int(i[3]):int(i[4])] = np.zeros(abs(int(i[4])-int(i[3])))\n",
    "\n",
    "                            if len(i) >= 8:\n",
    "                                listt[int(i[5]):int(i[6])] = np.zeros(abs(int(i[6])-int(i[5])))\n",
    "\n",
    "        weekday.append(listt)"
   ]
  },
  {
   "cell_type": "code",
   "execution_count": 14,
   "id": "60a66f57",
   "metadata": {},
   "outputs": [
    {
     "name": "stderr",
     "output_type": "stream",
     "text": [
      "C:\\Users\\student\\AppData\\Local\\Temp\\ipykernel_10656\\2294360129.py:33: FutureWarning: The default value of regex will change from True to False in a future version.\n",
      "  df2[j] = df2[j].str.replace(':\\d\\d','')\n"
     ]
    }
   ],
   "source": [
    "df2['week_list'] = df2['opening_hours'].str.replace(' ','') #去除空白\n",
    "df2['week_list'] = df2['week_list'].str.split(';') #以;分隔成list\n",
    "blank = []\n",
    "\n",
    "# 排序 一三二五六四日\n",
    "for i in df2['week_list']:\n",
    "    blank.append(sorted(i))\n",
    "\n",
    "df2['week_list'] = blank\n",
    "\n",
    "df_expanded_v1 = df2[\"week_list\"].apply(pd.Series)\n",
    "\n",
    "monday = []\n",
    "tuesday = []\n",
    "wednesday = []\n",
    "thursday = []\n",
    "friday = []\n",
    "saturday = []\n",
    "sunday = []\n",
    "weeklist = [[monday, 'monday'], [tuesday,'tuesday'], [wednesday,'wednesday'], [thursday,'thursday'],\n",
    "            [friday,'friday'],[saturday, 'saturday'],[sunday,'sunday']]\n",
    "\n",
    "df2['monday'] = df_expanded_v1[0]\n",
    "df2['tuesday'] = df_expanded_v1[2]\n",
    "df2['wednesday'] = df_expanded_v1[1]\n",
    "df2['thursday'] = df_expanded_v1[5]\n",
    "df2['friday'] = df_expanded_v1[3]\n",
    "df2['saturday'] = df_expanded_v1[4]\n",
    "df2['sunday'] = df_expanded_v1[6]\n",
    "\n",
    "# 把營業時間轉成[num,num]\n",
    "for i, j in weeklist:\n",
    "    df2[j] = df2[j].str.replace(':\\d\\d','')\n",
    "    df2[j] = df2[j].str.findall('\\d\\d')\n",
    "\n",
    "# 去除掉沒有營業時間\n",
    "df2 = df2[~df2['thursday'].isna()]\n",
    "\n",
    "for i, j in weeklist:\n",
    "    open_time(i, j)\n",
    "    df2[j] = i"
   ]
  },
  {
   "cell_type": "code",
   "execution_count": 18,
   "id": "4a9b211b",
   "metadata": {},
   "outputs": [],
   "source": [
    "df2.to_csv('cool.csv')"
   ]
  },
  {
   "cell_type": "code",
   "execution_count": 17,
   "id": "8616135b",
   "metadata": {},
   "outputs": [
    {
     "data": {
      "text/html": [
       "<div>\n",
       "<style scoped>\n",
       "    .dataframe tbody tr th:only-of-type {\n",
       "        vertical-align: middle;\n",
       "    }\n",
       "\n",
       "    .dataframe tbody tr th {\n",
       "        vertical-align: top;\n",
       "    }\n",
       "\n",
       "    .dataframe thead th {\n",
       "        text-align: right;\n",
       "    }\n",
       "</style>\n",
       "<table border=\"1\" class=\"dataframe\">\n",
       "  <thead>\n",
       "    <tr style=\"text-align: right;\">\n",
       "      <th></th>\n",
       "      <th>0</th>\n",
       "      <th>1</th>\n",
       "      <th>2</th>\n",
       "      <th>3</th>\n",
       "      <th>4</th>\n",
       "      <th>5</th>\n",
       "      <th>6</th>\n",
       "      <th>7</th>\n",
       "      <th>8</th>\n",
       "      <th>9</th>\n",
       "      <th>...</th>\n",
       "      <th>32</th>\n",
       "      <th>33</th>\n",
       "      <th>34</th>\n",
       "      <th>35</th>\n",
       "      <th>36</th>\n",
       "      <th>37</th>\n",
       "      <th>38</th>\n",
       "      <th>39</th>\n",
       "      <th>40</th>\n",
       "      <th>41</th>\n",
       "    </tr>\n",
       "  </thead>\n",
       "  <tbody>\n",
       "    <tr>\n",
       "      <th>0</th>\n",
       "      <td>0.0</td>\n",
       "      <td>0.0</td>\n",
       "      <td>0.0</td>\n",
       "      <td>0.0</td>\n",
       "      <td>0.0</td>\n",
       "      <td>0.0</td>\n",
       "      <td>0.0</td>\n",
       "      <td>0.0</td>\n",
       "      <td>0.0</td>\n",
       "      <td>0.0</td>\n",
       "      <td>...</td>\n",
       "      <td>NaN</td>\n",
       "      <td>NaN</td>\n",
       "      <td>NaN</td>\n",
       "      <td>NaN</td>\n",
       "      <td>NaN</td>\n",
       "      <td>NaN</td>\n",
       "      <td>NaN</td>\n",
       "      <td>NaN</td>\n",
       "      <td>NaN</td>\n",
       "      <td>NaN</td>\n",
       "    </tr>\n",
       "    <tr>\n",
       "      <th>1</th>\n",
       "      <td>0.0</td>\n",
       "      <td>0.0</td>\n",
       "      <td>0.0</td>\n",
       "      <td>0.0</td>\n",
       "      <td>0.0</td>\n",
       "      <td>0.0</td>\n",
       "      <td>0.0</td>\n",
       "      <td>0.0</td>\n",
       "      <td>0.0</td>\n",
       "      <td>0.0</td>\n",
       "      <td>...</td>\n",
       "      <td>NaN</td>\n",
       "      <td>NaN</td>\n",
       "      <td>NaN</td>\n",
       "      <td>NaN</td>\n",
       "      <td>NaN</td>\n",
       "      <td>NaN</td>\n",
       "      <td>NaN</td>\n",
       "      <td>NaN</td>\n",
       "      <td>NaN</td>\n",
       "      <td>NaN</td>\n",
       "    </tr>\n",
       "    <tr>\n",
       "      <th>2</th>\n",
       "      <td>0.0</td>\n",
       "      <td>0.0</td>\n",
       "      <td>0.0</td>\n",
       "      <td>0.0</td>\n",
       "      <td>0.0</td>\n",
       "      <td>0.0</td>\n",
       "      <td>0.0</td>\n",
       "      <td>0.0</td>\n",
       "      <td>0.0</td>\n",
       "      <td>0.0</td>\n",
       "      <td>...</td>\n",
       "      <td>NaN</td>\n",
       "      <td>NaN</td>\n",
       "      <td>NaN</td>\n",
       "      <td>NaN</td>\n",
       "      <td>NaN</td>\n",
       "      <td>NaN</td>\n",
       "      <td>NaN</td>\n",
       "      <td>NaN</td>\n",
       "      <td>NaN</td>\n",
       "      <td>NaN</td>\n",
       "    </tr>\n",
       "    <tr>\n",
       "      <th>3</th>\n",
       "      <td>0.0</td>\n",
       "      <td>0.0</td>\n",
       "      <td>0.0</td>\n",
       "      <td>0.0</td>\n",
       "      <td>0.0</td>\n",
       "      <td>0.0</td>\n",
       "      <td>0.0</td>\n",
       "      <td>0.0</td>\n",
       "      <td>0.0</td>\n",
       "      <td>0.0</td>\n",
       "      <td>...</td>\n",
       "      <td>NaN</td>\n",
       "      <td>NaN</td>\n",
       "      <td>NaN</td>\n",
       "      <td>NaN</td>\n",
       "      <td>NaN</td>\n",
       "      <td>NaN</td>\n",
       "      <td>NaN</td>\n",
       "      <td>NaN</td>\n",
       "      <td>NaN</td>\n",
       "      <td>NaN</td>\n",
       "    </tr>\n",
       "    <tr>\n",
       "      <th>4</th>\n",
       "      <td>0.0</td>\n",
       "      <td>0.0</td>\n",
       "      <td>0.0</td>\n",
       "      <td>0.0</td>\n",
       "      <td>0.0</td>\n",
       "      <td>0.0</td>\n",
       "      <td>0.0</td>\n",
       "      <td>0.0</td>\n",
       "      <td>0.0</td>\n",
       "      <td>0.0</td>\n",
       "      <td>...</td>\n",
       "      <td>NaN</td>\n",
       "      <td>NaN</td>\n",
       "      <td>NaN</td>\n",
       "      <td>NaN</td>\n",
       "      <td>NaN</td>\n",
       "      <td>NaN</td>\n",
       "      <td>NaN</td>\n",
       "      <td>NaN</td>\n",
       "      <td>NaN</td>\n",
       "      <td>NaN</td>\n",
       "    </tr>\n",
       "    <tr>\n",
       "      <th>...</th>\n",
       "      <td>...</td>\n",
       "      <td>...</td>\n",
       "      <td>...</td>\n",
       "      <td>...</td>\n",
       "      <td>...</td>\n",
       "      <td>...</td>\n",
       "      <td>...</td>\n",
       "      <td>...</td>\n",
       "      <td>...</td>\n",
       "      <td>...</td>\n",
       "      <td>...</td>\n",
       "      <td>...</td>\n",
       "      <td>...</td>\n",
       "      <td>...</td>\n",
       "      <td>...</td>\n",
       "      <td>...</td>\n",
       "      <td>...</td>\n",
       "      <td>...</td>\n",
       "      <td>...</td>\n",
       "      <td>...</td>\n",
       "      <td>...</td>\n",
       "    </tr>\n",
       "    <tr>\n",
       "      <th>25132</th>\n",
       "      <td>0.0</td>\n",
       "      <td>0.0</td>\n",
       "      <td>0.0</td>\n",
       "      <td>0.0</td>\n",
       "      <td>0.0</td>\n",
       "      <td>0.0</td>\n",
       "      <td>0.0</td>\n",
       "      <td>0.0</td>\n",
       "      <td>0.0</td>\n",
       "      <td>0.0</td>\n",
       "      <td>...</td>\n",
       "      <td>NaN</td>\n",
       "      <td>NaN</td>\n",
       "      <td>NaN</td>\n",
       "      <td>NaN</td>\n",
       "      <td>NaN</td>\n",
       "      <td>NaN</td>\n",
       "      <td>NaN</td>\n",
       "      <td>NaN</td>\n",
       "      <td>NaN</td>\n",
       "      <td>NaN</td>\n",
       "    </tr>\n",
       "    <tr>\n",
       "      <th>25134</th>\n",
       "      <td>0.0</td>\n",
       "      <td>0.0</td>\n",
       "      <td>0.0</td>\n",
       "      <td>0.0</td>\n",
       "      <td>0.0</td>\n",
       "      <td>0.0</td>\n",
       "      <td>0.0</td>\n",
       "      <td>0.0</td>\n",
       "      <td>0.0</td>\n",
       "      <td>0.0</td>\n",
       "      <td>...</td>\n",
       "      <td>NaN</td>\n",
       "      <td>NaN</td>\n",
       "      <td>NaN</td>\n",
       "      <td>NaN</td>\n",
       "      <td>NaN</td>\n",
       "      <td>NaN</td>\n",
       "      <td>NaN</td>\n",
       "      <td>NaN</td>\n",
       "      <td>NaN</td>\n",
       "      <td>NaN</td>\n",
       "    </tr>\n",
       "    <tr>\n",
       "      <th>25138</th>\n",
       "      <td>0.0</td>\n",
       "      <td>0.0</td>\n",
       "      <td>0.0</td>\n",
       "      <td>0.0</td>\n",
       "      <td>0.0</td>\n",
       "      <td>0.0</td>\n",
       "      <td>1.0</td>\n",
       "      <td>1.0</td>\n",
       "      <td>1.0</td>\n",
       "      <td>1.0</td>\n",
       "      <td>...</td>\n",
       "      <td>NaN</td>\n",
       "      <td>NaN</td>\n",
       "      <td>NaN</td>\n",
       "      <td>NaN</td>\n",
       "      <td>NaN</td>\n",
       "      <td>NaN</td>\n",
       "      <td>NaN</td>\n",
       "      <td>NaN</td>\n",
       "      <td>NaN</td>\n",
       "      <td>NaN</td>\n",
       "    </tr>\n",
       "    <tr>\n",
       "      <th>25139</th>\n",
       "      <td>0.0</td>\n",
       "      <td>0.0</td>\n",
       "      <td>0.0</td>\n",
       "      <td>0.0</td>\n",
       "      <td>0.0</td>\n",
       "      <td>0.0</td>\n",
       "      <td>0.0</td>\n",
       "      <td>0.0</td>\n",
       "      <td>0.0</td>\n",
       "      <td>0.0</td>\n",
       "      <td>...</td>\n",
       "      <td>NaN</td>\n",
       "      <td>NaN</td>\n",
       "      <td>NaN</td>\n",
       "      <td>NaN</td>\n",
       "      <td>NaN</td>\n",
       "      <td>NaN</td>\n",
       "      <td>NaN</td>\n",
       "      <td>NaN</td>\n",
       "      <td>NaN</td>\n",
       "      <td>NaN</td>\n",
       "    </tr>\n",
       "    <tr>\n",
       "      <th>25141</th>\n",
       "      <td>0.0</td>\n",
       "      <td>0.0</td>\n",
       "      <td>0.0</td>\n",
       "      <td>0.0</td>\n",
       "      <td>0.0</td>\n",
       "      <td>0.0</td>\n",
       "      <td>1.0</td>\n",
       "      <td>1.0</td>\n",
       "      <td>1.0</td>\n",
       "      <td>1.0</td>\n",
       "      <td>...</td>\n",
       "      <td>NaN</td>\n",
       "      <td>NaN</td>\n",
       "      <td>NaN</td>\n",
       "      <td>NaN</td>\n",
       "      <td>NaN</td>\n",
       "      <td>NaN</td>\n",
       "      <td>NaN</td>\n",
       "      <td>NaN</td>\n",
       "      <td>NaN</td>\n",
       "      <td>NaN</td>\n",
       "    </tr>\n",
       "  </tbody>\n",
       "</table>\n",
       "<p>16518 rows × 42 columns</p>\n",
       "</div>"
      ],
      "text/plain": [
       "        0    1    2    3    4    5    6    7    8    9   ...  32  33  34  35  \\\n",
       "0      0.0  0.0  0.0  0.0  0.0  0.0  0.0  0.0  0.0  0.0  ... NaN NaN NaN NaN   \n",
       "1      0.0  0.0  0.0  0.0  0.0  0.0  0.0  0.0  0.0  0.0  ... NaN NaN NaN NaN   \n",
       "2      0.0  0.0  0.0  0.0  0.0  0.0  0.0  0.0  0.0  0.0  ... NaN NaN NaN NaN   \n",
       "3      0.0  0.0  0.0  0.0  0.0  0.0  0.0  0.0  0.0  0.0  ... NaN NaN NaN NaN   \n",
       "4      0.0  0.0  0.0  0.0  0.0  0.0  0.0  0.0  0.0  0.0  ... NaN NaN NaN NaN   \n",
       "...    ...  ...  ...  ...  ...  ...  ...  ...  ...  ...  ...  ..  ..  ..  ..   \n",
       "25132  0.0  0.0  0.0  0.0  0.0  0.0  0.0  0.0  0.0  0.0  ... NaN NaN NaN NaN   \n",
       "25134  0.0  0.0  0.0  0.0  0.0  0.0  0.0  0.0  0.0  0.0  ... NaN NaN NaN NaN   \n",
       "25138  0.0  0.0  0.0  0.0  0.0  0.0  1.0  1.0  1.0  1.0  ... NaN NaN NaN NaN   \n",
       "25139  0.0  0.0  0.0  0.0  0.0  0.0  0.0  0.0  0.0  0.0  ... NaN NaN NaN NaN   \n",
       "25141  0.0  0.0  0.0  0.0  0.0  0.0  1.0  1.0  1.0  1.0  ... NaN NaN NaN NaN   \n",
       "\n",
       "       36  37  38  39  40  41  \n",
       "0     NaN NaN NaN NaN NaN NaN  \n",
       "1     NaN NaN NaN NaN NaN NaN  \n",
       "2     NaN NaN NaN NaN NaN NaN  \n",
       "3     NaN NaN NaN NaN NaN NaN  \n",
       "4     NaN NaN NaN NaN NaN NaN  \n",
       "...    ..  ..  ..  ..  ..  ..  \n",
       "25132 NaN NaN NaN NaN NaN NaN  \n",
       "25134 NaN NaN NaN NaN NaN NaN  \n",
       "25138 NaN NaN NaN NaN NaN NaN  \n",
       "25139 NaN NaN NaN NaN NaN NaN  \n",
       "25141 NaN NaN NaN NaN NaN NaN  \n",
       "\n",
       "[16518 rows x 42 columns]"
      ]
     },
     "execution_count": 17,
     "metadata": {},
     "output_type": "execute_result"
    }
   ],
   "source": [
    "df_expanded_v2"
   ]
  },
  {
   "cell_type": "code",
   "execution_count": 16,
   "id": "efce34d1",
   "metadata": {},
   "outputs": [
    {
     "name": "stderr",
     "output_type": "stream",
     "text": [
      "C:\\Users\\student\\AppData\\Local\\Temp\\ipykernel_10656\\4122065772.py:1: FutureWarning: The default dtype for empty Series will be 'object' instead of 'float64' in a future version. Specify a dtype explicitly to silence this warning.\n",
      "  df_expanded_v2 = df2[\"monday\"].apply(pd.Series)\n"
     ]
    },
    {
     "data": {
      "text/html": [
       "<div>\n",
       "<style scoped>\n",
       "    .dataframe tbody tr th:only-of-type {\n",
       "        vertical-align: middle;\n",
       "    }\n",
       "\n",
       "    .dataframe tbody tr th {\n",
       "        vertical-align: top;\n",
       "    }\n",
       "\n",
       "    .dataframe thead th {\n",
       "        text-align: right;\n",
       "    }\n",
       "</style>\n",
       "<table border=\"1\" class=\"dataframe\">\n",
       "  <thead>\n",
       "    <tr style=\"text-align: right;\">\n",
       "      <th></th>\n",
       "      <th>0</th>\n",
       "      <th>1</th>\n",
       "      <th>2</th>\n",
       "      <th>3</th>\n",
       "      <th>4</th>\n",
       "      <th>5</th>\n",
       "      <th>6</th>\n",
       "      <th>7</th>\n",
       "      <th>8</th>\n",
       "      <th>9</th>\n",
       "      <th>...</th>\n",
       "      <th>14</th>\n",
       "      <th>15</th>\n",
       "      <th>16</th>\n",
       "      <th>17</th>\n",
       "      <th>18</th>\n",
       "      <th>19</th>\n",
       "      <th>20</th>\n",
       "      <th>21</th>\n",
       "      <th>22</th>\n",
       "      <th>23</th>\n",
       "    </tr>\n",
       "  </thead>\n",
       "  <tbody>\n",
       "    <tr>\n",
       "      <th>0</th>\n",
       "      <td>0.0</td>\n",
       "      <td>0.0</td>\n",
       "      <td>0.0</td>\n",
       "      <td>0.0</td>\n",
       "      <td>0.0</td>\n",
       "      <td>0.0</td>\n",
       "      <td>0.0</td>\n",
       "      <td>0.0</td>\n",
       "      <td>0.0</td>\n",
       "      <td>0.0</td>\n",
       "      <td>...</td>\n",
       "      <td>1.0</td>\n",
       "      <td>1.0</td>\n",
       "      <td>1.0</td>\n",
       "      <td>1.0</td>\n",
       "      <td>1.0</td>\n",
       "      <td>1.0</td>\n",
       "      <td>1.0</td>\n",
       "      <td>0.0</td>\n",
       "      <td>0.0</td>\n",
       "      <td>0.0</td>\n",
       "    </tr>\n",
       "    <tr>\n",
       "      <th>1</th>\n",
       "      <td>0.0</td>\n",
       "      <td>0.0</td>\n",
       "      <td>0.0</td>\n",
       "      <td>0.0</td>\n",
       "      <td>0.0</td>\n",
       "      <td>0.0</td>\n",
       "      <td>0.0</td>\n",
       "      <td>0.0</td>\n",
       "      <td>0.0</td>\n",
       "      <td>0.0</td>\n",
       "      <td>...</td>\n",
       "      <td>0.0</td>\n",
       "      <td>0.0</td>\n",
       "      <td>0.0</td>\n",
       "      <td>1.0</td>\n",
       "      <td>1.0</td>\n",
       "      <td>1.0</td>\n",
       "      <td>0.0</td>\n",
       "      <td>0.0</td>\n",
       "      <td>0.0</td>\n",
       "      <td>0.0</td>\n",
       "    </tr>\n",
       "    <tr>\n",
       "      <th>2</th>\n",
       "      <td>0.0</td>\n",
       "      <td>0.0</td>\n",
       "      <td>0.0</td>\n",
       "      <td>0.0</td>\n",
       "      <td>0.0</td>\n",
       "      <td>0.0</td>\n",
       "      <td>0.0</td>\n",
       "      <td>0.0</td>\n",
       "      <td>0.0</td>\n",
       "      <td>0.0</td>\n",
       "      <td>...</td>\n",
       "      <td>0.0</td>\n",
       "      <td>0.0</td>\n",
       "      <td>0.0</td>\n",
       "      <td>0.0</td>\n",
       "      <td>0.0</td>\n",
       "      <td>0.0</td>\n",
       "      <td>0.0</td>\n",
       "      <td>0.0</td>\n",
       "      <td>0.0</td>\n",
       "      <td>0.0</td>\n",
       "    </tr>\n",
       "    <tr>\n",
       "      <th>3</th>\n",
       "      <td>0.0</td>\n",
       "      <td>0.0</td>\n",
       "      <td>0.0</td>\n",
       "      <td>0.0</td>\n",
       "      <td>0.0</td>\n",
       "      <td>0.0</td>\n",
       "      <td>0.0</td>\n",
       "      <td>0.0</td>\n",
       "      <td>0.0</td>\n",
       "      <td>0.0</td>\n",
       "      <td>...</td>\n",
       "      <td>0.0</td>\n",
       "      <td>0.0</td>\n",
       "      <td>0.0</td>\n",
       "      <td>1.0</td>\n",
       "      <td>1.0</td>\n",
       "      <td>1.0</td>\n",
       "      <td>0.0</td>\n",
       "      <td>0.0</td>\n",
       "      <td>0.0</td>\n",
       "      <td>0.0</td>\n",
       "    </tr>\n",
       "    <tr>\n",
       "      <th>4</th>\n",
       "      <td>0.0</td>\n",
       "      <td>0.0</td>\n",
       "      <td>0.0</td>\n",
       "      <td>0.0</td>\n",
       "      <td>0.0</td>\n",
       "      <td>0.0</td>\n",
       "      <td>0.0</td>\n",
       "      <td>0.0</td>\n",
       "      <td>0.0</td>\n",
       "      <td>0.0</td>\n",
       "      <td>...</td>\n",
       "      <td>1.0</td>\n",
       "      <td>1.0</td>\n",
       "      <td>1.0</td>\n",
       "      <td>1.0</td>\n",
       "      <td>1.0</td>\n",
       "      <td>1.0</td>\n",
       "      <td>1.0</td>\n",
       "      <td>1.0</td>\n",
       "      <td>0.0</td>\n",
       "      <td>0.0</td>\n",
       "    </tr>\n",
       "    <tr>\n",
       "      <th>...</th>\n",
       "      <td>...</td>\n",
       "      <td>...</td>\n",
       "      <td>...</td>\n",
       "      <td>...</td>\n",
       "      <td>...</td>\n",
       "      <td>...</td>\n",
       "      <td>...</td>\n",
       "      <td>...</td>\n",
       "      <td>...</td>\n",
       "      <td>...</td>\n",
       "      <td>...</td>\n",
       "      <td>...</td>\n",
       "      <td>...</td>\n",
       "      <td>...</td>\n",
       "      <td>...</td>\n",
       "      <td>...</td>\n",
       "      <td>...</td>\n",
       "      <td>...</td>\n",
       "      <td>...</td>\n",
       "      <td>...</td>\n",
       "      <td>...</td>\n",
       "    </tr>\n",
       "    <tr>\n",
       "      <th>25132</th>\n",
       "      <td>0.0</td>\n",
       "      <td>0.0</td>\n",
       "      <td>0.0</td>\n",
       "      <td>0.0</td>\n",
       "      <td>0.0</td>\n",
       "      <td>0.0</td>\n",
       "      <td>0.0</td>\n",
       "      <td>0.0</td>\n",
       "      <td>0.0</td>\n",
       "      <td>0.0</td>\n",
       "      <td>...</td>\n",
       "      <td>1.0</td>\n",
       "      <td>1.0</td>\n",
       "      <td>1.0</td>\n",
       "      <td>1.0</td>\n",
       "      <td>1.0</td>\n",
       "      <td>1.0</td>\n",
       "      <td>0.0</td>\n",
       "      <td>0.0</td>\n",
       "      <td>0.0</td>\n",
       "      <td>0.0</td>\n",
       "    </tr>\n",
       "    <tr>\n",
       "      <th>25134</th>\n",
       "      <td>0.0</td>\n",
       "      <td>0.0</td>\n",
       "      <td>0.0</td>\n",
       "      <td>0.0</td>\n",
       "      <td>0.0</td>\n",
       "      <td>0.0</td>\n",
       "      <td>0.0</td>\n",
       "      <td>0.0</td>\n",
       "      <td>0.0</td>\n",
       "      <td>0.0</td>\n",
       "      <td>...</td>\n",
       "      <td>0.0</td>\n",
       "      <td>0.0</td>\n",
       "      <td>0.0</td>\n",
       "      <td>0.0</td>\n",
       "      <td>0.0</td>\n",
       "      <td>0.0</td>\n",
       "      <td>0.0</td>\n",
       "      <td>0.0</td>\n",
       "      <td>0.0</td>\n",
       "      <td>0.0</td>\n",
       "    </tr>\n",
       "    <tr>\n",
       "      <th>25138</th>\n",
       "      <td>0.0</td>\n",
       "      <td>0.0</td>\n",
       "      <td>0.0</td>\n",
       "      <td>0.0</td>\n",
       "      <td>0.0</td>\n",
       "      <td>0.0</td>\n",
       "      <td>1.0</td>\n",
       "      <td>1.0</td>\n",
       "      <td>1.0</td>\n",
       "      <td>1.0</td>\n",
       "      <td>...</td>\n",
       "      <td>1.0</td>\n",
       "      <td>1.0</td>\n",
       "      <td>1.0</td>\n",
       "      <td>0.0</td>\n",
       "      <td>0.0</td>\n",
       "      <td>0.0</td>\n",
       "      <td>0.0</td>\n",
       "      <td>0.0</td>\n",
       "      <td>0.0</td>\n",
       "      <td>0.0</td>\n",
       "    </tr>\n",
       "    <tr>\n",
       "      <th>25139</th>\n",
       "      <td>0.0</td>\n",
       "      <td>0.0</td>\n",
       "      <td>0.0</td>\n",
       "      <td>0.0</td>\n",
       "      <td>0.0</td>\n",
       "      <td>0.0</td>\n",
       "      <td>0.0</td>\n",
       "      <td>0.0</td>\n",
       "      <td>0.0</td>\n",
       "      <td>0.0</td>\n",
       "      <td>...</td>\n",
       "      <td>1.0</td>\n",
       "      <td>1.0</td>\n",
       "      <td>1.0</td>\n",
       "      <td>1.0</td>\n",
       "      <td>1.0</td>\n",
       "      <td>1.0</td>\n",
       "      <td>0.0</td>\n",
       "      <td>0.0</td>\n",
       "      <td>0.0</td>\n",
       "      <td>0.0</td>\n",
       "    </tr>\n",
       "    <tr>\n",
       "      <th>25141</th>\n",
       "      <td>0.0</td>\n",
       "      <td>0.0</td>\n",
       "      <td>0.0</td>\n",
       "      <td>0.0</td>\n",
       "      <td>0.0</td>\n",
       "      <td>0.0</td>\n",
       "      <td>1.0</td>\n",
       "      <td>1.0</td>\n",
       "      <td>1.0</td>\n",
       "      <td>1.0</td>\n",
       "      <td>...</td>\n",
       "      <td>1.0</td>\n",
       "      <td>1.0</td>\n",
       "      <td>1.0</td>\n",
       "      <td>1.0</td>\n",
       "      <td>0.0</td>\n",
       "      <td>0.0</td>\n",
       "      <td>0.0</td>\n",
       "      <td>0.0</td>\n",
       "      <td>0.0</td>\n",
       "      <td>0.0</td>\n",
       "    </tr>\n",
       "  </tbody>\n",
       "</table>\n",
       "<p>16518 rows × 24 columns</p>\n",
       "</div>"
      ],
      "text/plain": [
       "        0    1    2    3    4    5    6    7    8    9   ...   14   15   16  \\\n",
       "0      0.0  0.0  0.0  0.0  0.0  0.0  0.0  0.0  0.0  0.0  ...  1.0  1.0  1.0   \n",
       "1      0.0  0.0  0.0  0.0  0.0  0.0  0.0  0.0  0.0  0.0  ...  0.0  0.0  0.0   \n",
       "2      0.0  0.0  0.0  0.0  0.0  0.0  0.0  0.0  0.0  0.0  ...  0.0  0.0  0.0   \n",
       "3      0.0  0.0  0.0  0.0  0.0  0.0  0.0  0.0  0.0  0.0  ...  0.0  0.0  0.0   \n",
       "4      0.0  0.0  0.0  0.0  0.0  0.0  0.0  0.0  0.0  0.0  ...  1.0  1.0  1.0   \n",
       "...    ...  ...  ...  ...  ...  ...  ...  ...  ...  ...  ...  ...  ...  ...   \n",
       "25132  0.0  0.0  0.0  0.0  0.0  0.0  0.0  0.0  0.0  0.0  ...  1.0  1.0  1.0   \n",
       "25134  0.0  0.0  0.0  0.0  0.0  0.0  0.0  0.0  0.0  0.0  ...  0.0  0.0  0.0   \n",
       "25138  0.0  0.0  0.0  0.0  0.0  0.0  1.0  1.0  1.0  1.0  ...  1.0  1.0  1.0   \n",
       "25139  0.0  0.0  0.0  0.0  0.0  0.0  0.0  0.0  0.0  0.0  ...  1.0  1.0  1.0   \n",
       "25141  0.0  0.0  0.0  0.0  0.0  0.0  1.0  1.0  1.0  1.0  ...  1.0  1.0  1.0   \n",
       "\n",
       "        17   18   19   20   21   22   23  \n",
       "0      1.0  1.0  1.0  1.0  0.0  0.0  0.0  \n",
       "1      1.0  1.0  1.0  0.0  0.0  0.0  0.0  \n",
       "2      0.0  0.0  0.0  0.0  0.0  0.0  0.0  \n",
       "3      1.0  1.0  1.0  0.0  0.0  0.0  0.0  \n",
       "4      1.0  1.0  1.0  1.0  1.0  0.0  0.0  \n",
       "...    ...  ...  ...  ...  ...  ...  ...  \n",
       "25132  1.0  1.0  1.0  0.0  0.0  0.0  0.0  \n",
       "25134  0.0  0.0  0.0  0.0  0.0  0.0  0.0  \n",
       "25138  0.0  0.0  0.0  0.0  0.0  0.0  0.0  \n",
       "25139  1.0  1.0  1.0  0.0  0.0  0.0  0.0  \n",
       "25141  1.0  0.0  0.0  0.0  0.0  0.0  0.0  \n",
       "\n",
       "[16518 rows x 24 columns]"
      ]
     },
     "execution_count": 16,
     "metadata": {},
     "output_type": "execute_result"
    }
   ],
   "source": [
    "df_expanded_v2 = df2[\"monday\"].apply(pd.Series)\n",
    "df_expanded_v2.iloc[:,0:24]"
   ]
  },
  {
   "cell_type": "markdown",
   "id": "72b9cc40",
   "metadata": {},
   "source": [
    "# 餐廳類別分布"
   ]
  },
  {
   "cell_type": "code",
   "execution_count": 19,
   "id": "7e447d4e",
   "metadata": {},
   "outputs": [
    {
     "data": {
      "text/plain": [
       "<AxesSubplot:xlabel='category_new', ylabel='count'>"
      ]
     },
     "execution_count": 19,
     "metadata": {},
     "output_type": "execute_result"
    },
    {
     "data": {
      "image/png": "[encoded data removed]",
      "text/plain": [
       "<Figure size 1080x576 with 1 Axes>"
      ]
     },
     "metadata": {
      "needs_background": "light"
     },
     "output_type": "display_data"
    }
   ],
   "source": [
    "plt.figure(figsize = (15,8))\n",
    "plt.rcParams['font.sans-serif'] = ['Microsoft JhengHei'] \n",
    "sns.countplot(x=df2[\"category_new\"])"
   ]
  },
  {
   "cell_type": "markdown",
   "id": "c9f465ee",
   "metadata": {},
   "source": [
    "# 行政區類別分布"
   ]
  },
  {
   "cell_type": "code",
   "execution_count": 20,
   "id": "c1d7f9d6",
   "metadata": {},
   "outputs": [
    {
     "data": {
      "text/plain": [
       "<AxesSubplot:xlabel='district_new', ylabel='count'>"
      ]
     },
     "execution_count": 20,
     "metadata": {},
     "output_type": "execute_result"
    },
    {
     "data": {
      "image/png": "[encoded data removed]",
      "text/plain": [
       "<Figure size 1080x576 with 1 Axes>"
      ]
     },
     "metadata": {
      "needs_background": "light"
     },
     "output_type": "display_data"
    }
   ],
   "source": [
    "plt.figure(figsize = (15,8))\n",
    "plt.rcParams['font.sans-serif'] = ['Microsoft JhengHei'] \n",
    "sns.countplot(x=df2[\"district_new\"])"
   ]
  },
  {
   "cell_type": "markdown",
   "id": "e017a717",
   "metadata": {},
   "source": [
    "# 評論數&星數"
   ]
  },
  {
   "cell_type": "code",
   "execution_count": 44,
   "id": "79353fa1",
   "metadata": {},
   "outputs": [
    {
     "data": {
      "text/plain": [
       "<AxesSubplot:xlabel='total_rating', ylabel='total_reviews'>"
      ]
     },
     "execution_count": 44,
     "metadata": {},
     "output_type": "execute_result"
    },
    {
     "data": {
      "image/png": "[encoded data removed]",
      "text/plain": [
       "<Figure size 1500x800 with 1 Axes>"
      ]
     },
     "metadata": {},
     "output_type": "display_data"
    }
   ],
   "source": [
    "plt.figure(figsize = (15,8))\n",
    "sns.scatterplot(x = df2['total_rating'], y = df2['total_reviews'])"
   ]
  },
  {
   "cell_type": "markdown",
   "id": "b64068d7",
   "metadata": {},
   "source": [
    "# 評論數分布"
   ]
  },
  {
   "cell_type": "code",
   "execution_count": 39,
   "id": "52584e25",
   "metadata": {},
   "outputs": [],
   "source": [
    "df2.loc[df2['total_reviews'] <= 50, 'new_review'] = '<50'\n",
    "df2.loc[(df2['total_reviews'] > 50) & (df2['total_reviews'] <= 100), 'new_review'] = '51-100'\n",
    "df2.loc[(df2['total_reviews'] > 100) & (df2['total_reviews'] <= 200), 'new_review'] = '101-200'\n",
    "df2.loc[(df2['total_reviews'] > 200) & (df2['total_reviews'] <= 300), 'new_review'] = '201-300'\n",
    "df2.loc[(df2['total_reviews'] > 300) & (df2['total_reviews'] <= 400), 'new_review'] = '301-400'\n",
    "df2.loc[(df2['total_reviews'] > 400) & (df2['total_reviews'] <= 500), 'new_review'] = '401-500'\n",
    "df2.loc[(df2['total_reviews'] > 500) & (df2['total_reviews'] <= 600), 'new_review'] = '501-600'\n",
    "df2.loc[(df2['total_reviews'] > 600) & (df2['total_reviews'] <= 700), 'new_review'] = '601-700'\n",
    "df2.loc[(df2['total_reviews'] > 700) & (df2['total_reviews'] <= 800), 'new_review'] = '701-800'\n",
    "df2.loc[(df2['total_reviews'] > 800) & (df2['total_reviews'] <= 900), 'new_review'] = '801-900'\n",
    "df2.loc[(df2['total_reviews'] > 900) & (df2['total_reviews'] <= 1000), 'new_review'] = '901-1000'\n",
    "df2.loc[(df2['total_reviews'] > 1000) & (df2['total_reviews'] <= 2000), 'new_review'] = '1001-2000'\n",
    "df2.loc[(df2['total_reviews'] > 2000) & (df2['total_reviews'] <= 3000), 'new_review'] = '2001-3000'\n",
    "df2.loc[(df2['total_reviews'] > 3000) & (df2['total_reviews'] <= 4000), 'new_review'] = '3001-4000'\n",
    "df2.loc[(df2['total_reviews'] > 4000) & (df2['total_reviews'] <= 5000), 'new_review'] = '4001-5000'\n",
    "df2.loc[(df2['total_reviews'] > 5000), 'new_review'] = '>5000'"
   ]
  },
  {
   "cell_type": "code",
   "execution_count": 73,
   "id": "b908cec5",
   "metadata": {},
   "outputs": [
    {
     "data": {
      "text/plain": [
       "<AxesSubplot:xlabel='new_review', ylabel='count'>"
      ]
     },
     "execution_count": 73,
     "metadata": {},
     "output_type": "execute_result"
    },
    {
     "data": {
      "image/png": "[encoded data removed]",
      "text/plain": [
       "<Figure size 1500x800 with 1 Axes>"
      ]
     },
     "metadata": {},
     "output_type": "display_data"
    }
   ],
   "source": [
    "plt.figure(figsize = (15,8))\n",
    "sns.countplot(x = df2['new_review'], order=['<50', '51-100','101-200','201-300','301-400','401-500','501-600','601-700','701-800','801-900','901-1000','1001-2000','2001-3000','3001-4000','4001-5000','>5000'])"
   ]
  },
  {
   "cell_type": "markdown",
   "id": "72d62aae",
   "metadata": {},
   "source": [
    "# 評論星數分布"
   ]
  },
  {
   "cell_type": "code",
   "execution_count": 21,
   "id": "9f23f8fd",
   "metadata": {},
   "outputs": [
    {
     "data": {
      "text/plain": [
       "<AxesSubplot:xlabel='total_rating', ylabel='count'>"
      ]
     },
     "execution_count": 21,
     "metadata": {},
     "output_type": "execute_result"
    },
    {
     "data": {
      "image/png": "[encoded data removed]",
      "text/plain": [
       "<Figure size 1500x800 with 1 Axes>"
      ]
     },
     "metadata": {},
     "output_type": "display_data"
    }
   ],
   "source": [
    "plt.figure(figsize = (15,8))\n",
    "sns.countplot(x = df2['total_rating'])"
   ]
  },
  {
   "cell_type": "code",
   "execution_count": 32,
   "id": "2a2e62a3",
   "metadata": {},
   "outputs": [
    {
     "name": "stdout",
     "output_type": "stream",
     "text": [
      "Test statistic: 0.35039364447425214\n",
      "p-value: [0.574 0.653 0.784 0.914 1.088]\n",
      "The data is likely to be normally distributed\n"
     ]
    },
    {
     "data": {
      "image/png": "[encoded data removed]",
      "text/plain": [
       "<Figure size 640x480 with 1 Axes>"
      ]
     },
     "metadata": {},
     "output_type": "display_data"
    }
   ],
   "source": [
    "data2 = df_model['total_rating'].to_numpy()\n",
    "data2 = np.random.normal(0, 1, size=1000)\n",
    "result = anderson(data2)\n",
    "\n",
    "# Print the test statistic and the p-value\n",
    "print(f'Test statistic: {result.statistic}')\n",
    "print(f'p-value: {result.critical_values}')\n",
    "\n",
    "# If the p-value is greater than 0.05, we cannot reject the null hypothesis\n",
    "# that the data comes from a normal distribution\n",
    "if result.statistic < result.critical_values[2]:\n",
    "    print('The data is likely to be normally distributed')\n",
    "else:\n",
    "    print('The data is not likely to be normally distributed')\n",
    "    \n",
    "probplot(data2, plot=plt)\n",
    "# Show the plot\n",
    "plt.show()"
   ]
  },
  {
   "cell_type": "code",
   "execution_count": 28,
   "id": "2076d6c0",
   "metadata": {},
   "outputs": [
    {
     "name": "stdout",
     "output_type": "stream",
     "text": [
      "The data is not likely to be normally distributed\n"
     ]
    }
   ],
   "source": [
    "from scipy.stats import normaltest\n",
    "\n",
    "# Extract the model_rating column as a NumPy array\n",
    "data = df_model['model_rating'].to_numpy()\n",
    "\n",
    "# Perform the normality test\n",
    "stat, p = normaltest(data)\n",
    "\n",
    "# If the p-value is greater than 0.05, we cannot reject the null hypothesis\n",
    "# that the data comes from a normal distribution\n",
    "if p > 0.01:\n",
    "    print('The data is likely to be normally distributed')\n",
    "else:\n",
    "    print('The data is not likely to be normally distributed')"
   ]
  },
  {
   "cell_type": "code",
   "execution_count": 23,
   "id": "70f4f471",
   "metadata": {},
   "outputs": [
    {
     "name": "stdout",
     "output_type": "stream",
     "text": [
      "Test statistic: 0.4939306643684631\n",
      "p-value: [0.574 0.653 0.784 0.914 1.088]\n",
      "The data is likely to be normally distributed\n"
     ]
    }
   ],
   "source": [
    "from scipy.stats import anderson\n",
    "\n",
    "# Generate some normally distributed data\n",
    "data = np.random.normal(0, 1, size=1000)\n",
    "\n",
    "# Perform the Anderson-Darling test\n",
    "result = anderson(data)\n",
    "\n",
    "# Print the test statistic and the p-value\n",
    "print(f'Test statistic: {result.statistic}')\n",
    "print(f'p-value: {result.critical_values}')\n",
    "\n",
    "# If the p-value is greater than 0.05, we cannot reject the null hypothesis\n",
    "# that the data comes from a normal distribution\n",
    "if result.statistic < result.critical_values[2]:\n",
    "    print('The data is likely to be normally distributed')\n",
    "else:\n",
    "    print('The data is not likely to be normally distributed')"
   ]
  },
  {
   "cell_type": "code",
   "execution_count": 22,
   "id": "d02754b1",
   "metadata": {},
   "outputs": [
    {
     "data": {
      "image/png": "[encoded data removed]",
      "text/plain": [
       "<Figure size 640x480 with 1 Axes>"
      ]
     },
     "metadata": {},
     "output_type": "display_data"
    }
   ],
   "source": [
    "import numpy as np\n",
    "import matplotlib.pyplot as plt\n",
    "from scipy.stats import probplot\n",
    "\n",
    "# Generate some normally distributed data\n",
    "data = np.random.normal(0, 1, size=1000)\n",
    "\n",
    "# Perform the Q-Q plot\n",
    "probplot(data, plot=plt)\n",
    "\n",
    "# Show the plot\n",
    "plt.show()"
   ]
  },
  {
   "cell_type": "code",
   "execution_count": 13,
   "id": "17fb29f1",
   "metadata": {},
   "outputs": [
    {
     "data": {
      "text/plain": [
       "<AxesSubplot:xlabel='model_rating', ylabel='count'>"
      ]
     },
     "execution_count": 13,
     "metadata": {},
     "output_type": "execute_result"
    },
    {
     "data": {
      "image/png": "[encoded data removed]",
      "text/plain": [
       "<Figure size 1500x800 with 1 Axes>"
      ]
     },
     "metadata": {},
     "output_type": "display_data"
    }
   ],
   "source": [
    "import matplotlib.pyplot as plt\n",
    "import seaborn as sns\n",
    "plt.figure(figsize = (15,8))\n",
    "sns.countplot(x = df_model['model_rating'])"
   ]
  },
  {
   "cell_type": "code",
   "execution_count": 10,
   "id": "6c416831",
   "metadata": {},
   "outputs": [],
   "source": [
    "import pandas as pd\n",
    "df_model = pd.read_csv('place_info_final_0103.csv')"
   ]
  },
  {
   "cell_type": "code",
   "execution_count": 9,
   "id": "8285c3d0",
   "metadata": {},
   "outputs": [
    {
     "data": {
      "text/html": [
       "<div>\n",
       "<style scoped>\n",
       "    .dataframe tbody tr th:only-of-type {\n",
       "        vertical-align: middle;\n",
       "    }\n",
       "\n",
       "    .dataframe tbody tr th {\n",
       "        vertical-align: top;\n",
       "    }\n",
       "\n",
       "    .dataframe thead th {\n",
       "        text-align: right;\n",
       "    }\n",
       "</style>\n",
       "<table border=\"1\" class=\"dataframe\">\n",
       "  <thead>\n",
       "    <tr style=\"text-align: right;\">\n",
       "      <th></th>\n",
       "      <th>Unnamed: 0</th>\n",
       "      <th>google_url</th>\n",
       "      <th>place_name</th>\n",
       "      <th>total_rating</th>\n",
       "      <th>place_category</th>\n",
       "      <th>total_reviews</th>\n",
       "      <th>cost</th>\n",
       "      <th>address</th>\n",
       "      <th>district</th>\n",
       "      <th>eat_in</th>\n",
       "      <th>...</th>\n",
       "      <th>wednesday</th>\n",
       "      <th>thursday</th>\n",
       "      <th>friday</th>\n",
       "      <th>saturday</th>\n",
       "      <th>sunday</th>\n",
       "      <th>new_place_category</th>\n",
       "      <th>latitude</th>\n",
       "      <th>longitude</th>\n",
       "      <th>district_num</th>\n",
       "      <th>model_rating</th>\n",
       "    </tr>\n",
       "  </thead>\n",
       "  <tbody>\n",
       "    <tr>\n",
       "      <th>13494</th>\n",
       "      <td>0</td>\n",
       "      <td>Column1</td>\n",
       "      <td>Column2</td>\n",
       "      <td>Column3</td>\n",
       "      <td>Column4</td>\n",
       "      <td>Column5</td>\n",
       "      <td>Column6</td>\n",
       "      <td>Column7</td>\n",
       "      <td>Column8</td>\n",
       "      <td>Column9</td>\n",
       "      <td>...</td>\n",
       "      <td>Column24</td>\n",
       "      <td>Column25</td>\n",
       "      <td>Column26</td>\n",
       "      <td>Column27</td>\n",
       "      <td>Column28</td>\n",
       "      <td>Column29</td>\n",
       "      <td>Column30</td>\n",
       "      <td>Column31</td>\n",
       "      <td>Column32</td>\n",
       "      <td>Column33</td>\n",
       "    </tr>\n",
       "  </tbody>\n",
       "</table>\n",
       "<p>1 rows × 34 columns</p>\n",
       "</div>"
      ],
      "text/plain": [
       "       Unnamed: 0 google_url place_name total_rating place_category  \\\n",
       "13494           0    Column1    Column2      Column3        Column4   \n",
       "\n",
       "      total_reviews     cost  address district   eat_in  ... wednesday  \\\n",
       "13494       Column5  Column6  Column7  Column8  Column9  ...  Column24   \n",
       "\n",
       "       thursday    friday  saturday    sunday new_place_category  latitude  \\\n",
       "13494  Column25  Column26  Column27  Column28           Column29  Column30   \n",
       "\n",
       "      longitude district_num model_rating  \n",
       "13494  Column31     Column32     Column33  \n",
       "\n",
       "[1 rows x 34 columns]"
      ]
     },
     "execution_count": 9,
     "metadata": {},
     "output_type": "execute_result"
    }
   ],
   "source": [
    "df_model[df_model['model_rating'] == 'Column33']"
   ]
  },
  {
   "cell_type": "code",
   "execution_count": 11,
   "id": "19faa3a4",
   "metadata": {},
   "outputs": [
    {
     "data": {
      "text/plain": [
       "4.0    1367\n",
       "4.1    1310\n",
       "3.9    1290\n",
       "4.2    1229\n",
       "3.8    1206\n",
       "4.3    1056\n",
       "3.7    1014\n",
       "4.4     922\n",
       "3.6     870\n",
       "4.5     768\n",
       "3.5     754\n",
       "3.4     614\n",
       "4.6     565\n",
       "3.3     491\n",
       "4.7     430\n",
       "3.2     402\n",
       "3.1     361\n",
       "4.8     233\n",
       "3.0     232\n",
       "2.9     222\n",
       "2.8     195\n",
       "2.7     142\n",
       "2.6     115\n",
       "2.5      90\n",
       "4.9      70\n",
       "2.4      56\n",
       "2.2      46\n",
       "2.3      38\n",
       "2.1      31\n",
       "2.0      24\n",
       "1.8      14\n",
       "1.9      14\n",
       "5.0       8\n",
       "1.7       7\n",
       "1.6       3\n",
       "1.5       3\n",
       "1.4       2\n",
       "Name: model_rating, dtype: int64"
      ]
     },
     "execution_count": 11,
     "metadata": {},
     "output_type": "execute_result"
    }
   ],
   "source": [
    "df_model['model_rating'].value_counts()"
   ]
  },
  {
   "cell_type": "code",
   "execution_count": 12,
   "id": "d161d497",
   "metadata": {},
   "outputs": [
    {
     "data": {
      "text/plain": [
       "<AxesSubplot:xlabel='model_rating', ylabel='count'>"
      ]
     },
     "execution_count": 12,
     "metadata": {},
     "output_type": "execute_result"
    },
    {
     "data": {
      "image/png": "[encoded data removed]",
      "text/plain": [
       "<Figure size 1500x800 with 1 Axes>"
      ]
     },
     "metadata": {},
     "output_type": "display_data"
    }
   ],
   "source": [
    "import matplotlib.pyplot as plt\n",
    "import seaborn as sns\n",
    "plt.figure(figsize = (15,8))\n",
    "sns.countplot(x = df_model['model_rating'])"
   ]
  },
  {
   "cell_type": "code",
   "execution_count": 443,
   "id": "392cae27",
   "metadata": {},
   "outputs": [
    {
     "name": "stdout",
     "output_type": "stream",
     "text": [
      "偏度(Skewness): -1.21, 峰度(Kurtosis): 3.77\n"
     ]
    },
    {
     "data": {
      "image/png": "[encoded data removed]",
      "text/plain": [
       "<Figure size 640x480 with 1 Axes>"
      ]
     },
     "metadata": {},
     "output_type": "display_data"
    }
   ],
   "source": [
    "transform_data = df2['total_rating']**(1/2)\n",
    "# skewness 與 kurtosis\n",
    "skewness = round(transform_data.skew(), 2)\n",
    "kurtosis = round(transform_data.kurt(), 2)\n",
    "print(f\"偏度(Skewness): {skewness}, 峰度(Kurtosis): {kurtosis}\")\n",
    "\n",
    "# 繪製分布圖\n",
    "sns.histplot(transform_data, kde=True)\n",
    "plt.show()"
   ]
  },
  {
   "cell_type": "code",
   "execution_count": 442,
   "id": "dff9859c",
   "metadata": {},
   "outputs": [
    {
     "name": "stdout",
     "output_type": "stream",
     "text": [
      "偏度(Skewness): -1.64, 峰度(Kurtosis): 6.75\n"
     ]
    },
    {
     "data": {
      "image/png": "[encoded data removed]",
      "text/plain": [
       "<Figure size 640x480 with 1 Axes>"
      ]
     },
     "metadata": {},
     "output_type": "display_data"
    }
   ],
   "source": [
    "transform_data = np.log(df2['total_rating'])\n",
    "# skewness 與 kurtosis\n",
    "skewness = round(transform_data.skew(), 2)\n",
    "kurtosis = round(transform_data.kurt(), 2)\n",
    "print(f\"偏度(Skewness): {skewness}, 峰度(Kurtosis): {kurtosis}\")\n",
    "\n",
    "# 繪製分布圖\n",
    "sns.histplot(transform_data, kde=True)\n",
    "plt.show()"
   ]
  },
  {
   "cell_type": "code",
   "execution_count": 434,
   "id": "433f7699",
   "metadata": {},
   "outputs": [
    {
     "data": {
      "text/html": [
       "<div>\n",
       "<style scoped>\n",
       "    .dataframe tbody tr th:only-of-type {\n",
       "        vertical-align: middle;\n",
       "    }\n",
       "\n",
       "    .dataframe tbody tr th {\n",
       "        vertical-align: top;\n",
       "    }\n",
       "\n",
       "    .dataframe thead th {\n",
       "        text-align: right;\n",
       "    }\n",
       "</style>\n",
       "<table border=\"1\" class=\"dataframe\">\n",
       "  <thead>\n",
       "    <tr style=\"text-align: right;\">\n",
       "      <th></th>\n",
       "      <th>total_rating</th>\n",
       "      <th>total_reviews</th>\n",
       "      <th>eat_in</th>\n",
       "      <th>to_go_1</th>\n",
       "      <th>to_go_2</th>\n",
       "      <th>delivery</th>\n",
       "      <th>close</th>\n",
       "      <th>file_name_1</th>\n",
       "    </tr>\n",
       "  </thead>\n",
       "  <tbody>\n",
       "    <tr>\n",
       "      <th>count</th>\n",
       "      <td>15084.000000</td>\n",
       "      <td>15084.000000</td>\n",
       "      <td>15084.0</td>\n",
       "      <td>15084.000000</td>\n",
       "      <td>15084.000000</td>\n",
       "      <td>15084.000000</td>\n",
       "      <td>0.0</td>\n",
       "      <td>15084.000000</td>\n",
       "    </tr>\n",
       "    <tr>\n",
       "      <th>mean</th>\n",
       "      <td>4.178215</td>\n",
       "      <td>570.553302</td>\n",
       "      <td>1.0</td>\n",
       "      <td>0.843477</td>\n",
       "      <td>0.106006</td>\n",
       "      <td>0.484288</td>\n",
       "      <td>NaN</td>\n",
       "      <td>11004.883121</td>\n",
       "    </tr>\n",
       "    <tr>\n",
       "      <th>std</th>\n",
       "      <td>0.426257</td>\n",
       "      <td>993.532935</td>\n",
       "      <td>0.0</td>\n",
       "      <td>0.363363</td>\n",
       "      <td>0.307856</td>\n",
       "      <td>0.499770</td>\n",
       "      <td>NaN</td>\n",
       "      <td>7031.869812</td>\n",
       "    </tr>\n",
       "    <tr>\n",
       "      <th>min</th>\n",
       "      <td>1.300000</td>\n",
       "      <td>51.000000</td>\n",
       "      <td>1.0</td>\n",
       "      <td>0.000000</td>\n",
       "      <td>0.000000</td>\n",
       "      <td>0.000000</td>\n",
       "      <td>NaN</td>\n",
       "      <td>0.000000</td>\n",
       "    </tr>\n",
       "    <tr>\n",
       "      <th>25%</th>\n",
       "      <td>4.000000</td>\n",
       "      <td>127.000000</td>\n",
       "      <td>1.0</td>\n",
       "      <td>1.000000</td>\n",
       "      <td>0.000000</td>\n",
       "      <td>0.000000</td>\n",
       "      <td>NaN</td>\n",
       "      <td>4978.750000</td>\n",
       "    </tr>\n",
       "    <tr>\n",
       "      <th>50%</th>\n",
       "      <td>4.200000</td>\n",
       "      <td>268.000000</td>\n",
       "      <td>1.0</td>\n",
       "      <td>1.000000</td>\n",
       "      <td>0.000000</td>\n",
       "      <td>0.000000</td>\n",
       "      <td>NaN</td>\n",
       "      <td>10219.000000</td>\n",
       "    </tr>\n",
       "    <tr>\n",
       "      <th>75%</th>\n",
       "      <td>4.500000</td>\n",
       "      <td>616.000000</td>\n",
       "      <td>1.0</td>\n",
       "      <td>1.000000</td>\n",
       "      <td>0.000000</td>\n",
       "      <td>1.000000</td>\n",
       "      <td>NaN</td>\n",
       "      <td>16463.750000</td>\n",
       "    </tr>\n",
       "    <tr>\n",
       "      <th>max</th>\n",
       "      <td>5.000000</td>\n",
       "      <td>41467.000000</td>\n",
       "      <td>1.0</td>\n",
       "      <td>1.000000</td>\n",
       "      <td>1.000000</td>\n",
       "      <td>1.000000</td>\n",
       "      <td>NaN</td>\n",
       "      <td>25141.000000</td>\n",
       "    </tr>\n",
       "  </tbody>\n",
       "</table>\n",
       "</div>"
      ],
      "text/plain": [
       "       total_rating  total_reviews   eat_in       to_go_1       to_go_2  \\\n",
       "count  15084.000000   15084.000000  15084.0  15084.000000  15084.000000   \n",
       "mean       4.178215     570.553302      1.0      0.843477      0.106006   \n",
       "std        0.426257     993.532935      0.0      0.363363      0.307856   \n",
       "min        1.300000      51.000000      1.0      0.000000      0.000000   \n",
       "25%        4.000000     127.000000      1.0      1.000000      0.000000   \n",
       "50%        4.200000     268.000000      1.0      1.000000      0.000000   \n",
       "75%        4.500000     616.000000      1.0      1.000000      0.000000   \n",
       "max        5.000000   41467.000000      1.0      1.000000      1.000000   \n",
       "\n",
       "           delivery  close   file_name_1  \n",
       "count  15084.000000    0.0  15084.000000  \n",
       "mean       0.484288    NaN  11004.883121  \n",
       "std        0.499770    NaN   7031.869812  \n",
       "min        0.000000    NaN      0.000000  \n",
       "25%        0.000000    NaN   4978.750000  \n",
       "50%        0.000000    NaN  10219.000000  \n",
       "75%        1.000000    NaN  16463.750000  \n",
       "max        1.000000    NaN  25141.000000  "
      ]
     },
     "execution_count": 434,
     "metadata": {},
     "output_type": "execute_result"
    }
   ],
   "source": [
    "df2.describe()"
   ]
  },
  {
   "cell_type": "code",
   "execution_count": 433,
   "id": "8bfd6287",
   "metadata": {},
   "outputs": [
    {
     "data": {
      "text/plain": [
       "<AxesSubplot:xlabel='total_rating'>"
      ]
     },
     "execution_count": 433,
     "metadata": {},
     "output_type": "execute_result"
    },
    {
     "data": {
      "image/png": "[encoded data removed]",
      "text/plain": [
       "<Figure size 1500x800 with 1 Axes>"
      ]
     },
     "metadata": {},
     "output_type": "display_data"
    }
   ],
   "source": [
    "plt.figure(figsize = (15,8))\n",
    "sns.boxplot(x = df2['total_rating'])"
   ]
  },
  {
   "cell_type": "code",
   "execution_count": 6,
   "id": "680199c3",
   "metadata": {},
   "outputs": [],
   "source": [
    "import pandas as pd\n",
    "import numpy as np\n",
    "import matplotlib.pyplot as plt\n",
    "import seaborn as sns"
   ]
  },
  {
   "cell_type": "code",
   "execution_count": 7,
   "id": "7a5f62f4",
   "metadata": {},
   "outputs": [],
   "source": [
    "df = pd.read_csv('C:\\place_info_final_0103.csv')"
   ]
  },
  {
   "cell_type": "code",
   "execution_count": 9,
   "id": "0294e902",
   "metadata": {},
   "outputs": [],
   "source": [
    "df2 = df[df['model_rating'] >= 3]"
   ]
  },
  {
   "cell_type": "code",
   "execution_count": 10,
   "id": "075dda7d",
   "metadata": {},
   "outputs": [
    {
     "data": {
      "text/plain": [
       "<AxesSubplot:xlabel='model_rating'>"
      ]
     },
     "execution_count": 10,
     "metadata": {},
     "output_type": "execute_result"
    },
    {
     "data": {
      "image/png": "[encoded data removed]",
      "text/plain": [
       "<Figure size 1500x800 with 1 Axes>"
      ]
     },
     "metadata": {},
     "output_type": "display_data"
    }
   ],
   "source": [
    "plt.figure(figsize = (15,8))\n",
    "sns.boxplot(x = df2['model_rating'])"
   ]
  },
  {
   "cell_type": "code",
   "execution_count": 15,
   "id": "fda64179",
   "metadata": {},
   "outputs": [],
   "source": [
    "from scipy.stats import shapiro, normaltest"
   ]
  },
  {
   "cell_type": "code",
   "execution_count": 13,
   "id": "96eba15a",
   "metadata": {},
   "outputs": [],
   "source": [
    "data = list(df['model_rating'])"
   ]
  },
  {
   "cell_type": "code",
   "execution_count": 17,
   "id": "5f4dbd01",
   "metadata": {},
   "outputs": [],
   "source": [
    "data2 = list(df2['model_rating'])"
   ]
  },
  {
   "cell_type": "code",
   "execution_count": 14,
   "id": "b7c81556",
   "metadata": {},
   "outputs": [
    {
     "name": "stdout",
     "output_type": "stream",
     "text": [
      "stat=0.964, p=0.000\n",
      "\n"
     ]
    },
    {
     "name": "stderr",
     "output_type": "stream",
     "text": [
      "C:\\Users\\student\\anaconda3\\lib\\site-packages\\scipy\\stats\\_morestats.py:1800: UserWarning: p-value may not be accurate for N > 5000.\n",
      "  warnings.warn(\"p-value may not be accurate for N > 5000.\")\n"
     ]
    }
   ],
   "source": [
    "stat, p = shapiro(data)\n",
    "print('stat=%.3f, p=%.3f\\n' % (stat,p))"
   ]
  },
  {
   "cell_type": "code",
   "execution_count": 16,
   "id": "aa46a87e",
   "metadata": {},
   "outputs": [
    {
     "name": "stdout",
     "output_type": "stream",
     "text": [
      "stat=1480.949, p=0.000\n",
      "\n"
     ]
    }
   ],
   "source": [
    "stat, p = normaltest(data)\n",
    "print('stat=%.3f, p=%.3f\\n' % (stat,p))"
   ]
  },
  {
   "cell_type": "code",
   "execution_count": 19,
   "id": "d2908b8f",
   "metadata": {},
   "outputs": [
    {
     "name": "stdout",
     "output_type": "stream",
     "text": [
      "stat=0.985, p=0.000\n",
      "\n"
     ]
    },
    {
     "name": "stderr",
     "output_type": "stream",
     "text": [
      "C:\\Users\\student\\anaconda3\\lib\\site-packages\\scipy\\stats\\_morestats.py:1800: UserWarning: p-value may not be accurate for N > 5000.\n",
      "  warnings.warn(\"p-value may not be accurate for N > 5000.\")\n"
     ]
    }
   ],
   "source": [
    "stat, p = shapiro(data2)\n",
    "print('stat=%.3f, p=%.3f\\n' % (stat,p))"
   ]
  }
 ],
 "metadata": {
  "kernelspec": {
   "display_name": "Python 3 (ipykernel)",
   "language": "python",
   "name": "python3"
  },
  "language_info": {
   "codemirror_mode": {
    "name": "ipython",
    "version": 3
   },
   "file_extension": ".py",
   "mimetype": "text/x-python",
   "name": "python",
   "nbconvert_exporter": "python",
   "pygments_lexer": "ipython3",
   "version": "3.9.12"
  }
 },
 "nbformat": 4,
 "nbformat_minor": 5
}
